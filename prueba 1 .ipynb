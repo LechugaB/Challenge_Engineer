{
 "cells": [
  {
   "cell_type": "code",
   "execution_count": 5,
   "id": "cc6f053d",
   "metadata": {},
   "outputs": [],
   "source": [
    "import json\n",
    "import requests\n",
    "from datetime import datetime\n",
    "from pprint import pprint"
   ]
  },
  {
   "cell_type": "code",
   "execution_count": 6,
   "id": "731abe04",
   "metadata": {},
   "outputs": [],
   "source": [
    "def pregunta_1(json_response: json) -> None:\n",
    "    preguntas_contestadas = 0\n",
    "    numero_total_de_respuestas = 0\n",
    "    preguntas_sin_respuestas = 0\n",
    "    for dct in json_response[\"items\"]:\n",
    "        if dct[\"is_answered\"]:\n",
    "            preguntas_contestadas += 1\n",
    "            numero_total_de_respuestas += dct[\"answer_count\"]\n",
    "        else:\n",
    "            preguntas_sin_respuestas += 1\n",
    "    print(\"Preguntas contestadas : \", preguntas_contestadas)\n",
    "    print(\"Número total de respuestas : \", numero_total_de_respuestas)\n",
    "    print(\"Preguntas sin respuestas : \", preguntas_sin_respuestas)"
   ]
  },
  {
   "cell_type": "code",
   "execution_count": 7,
   "id": "f0292c0e",
   "metadata": {},
   "outputs": [],
   "source": [
    "def pregunta_2(json_response: json) -> None:\n",
    "    \"\"\"\n",
    "    Está función imprime la respuesta a la pregunta 2, la cual nos dice :\n",
    "    Obtener la respuesta con menor número de vistas.\n",
    "    \"\"\"\n",
    "    conteo_vistas_y_titulos = [(dct[\"view_count\"], dct[\"title\"]) for dct in json_response[\"items\"]]\n",
    "    conteo_vistas_y_titulos.sort(key=lambda x: x[0])\n",
    "    conteo_vista, titulo_pregunta = conteo_vistas_y_titulos[0]\n",
    "    print(\"Pregunta con menor número de vistas : \", titulo_pregunta)\n",
    "    print(\"Número de vistas : \", conteo_vista)"
   ]
  },
  {
   "cell_type": "code",
   "execution_count": 8,
   "id": "290dc767",
   "metadata": {},
   "outputs": [],
   "source": [
    "def pregunta_3(json_response: json) -> None:\n",
    "    \"\"\"\n",
    "    Está función imprime la respuesta a la pregunta 3, la cual nos dice :\n",
    "    Obtener la respuesta más vieja y más actual.\n",
    "    \"\"\"\n",
    "    fechas_creacion_y_titulos = [(datetime.fromtimestamp(dct[\"creation_date\"]), dct[\"title\"]) \n",
    "                                    for dct in json_response[\"items\"]]\n",
    "    fechas_creacion_y_titulos.sort(key=lambda x: x[0])\n",
    "    _, pregunta_vieja = fechas_creacion_y_titulos[0]\n",
    "    _, pregunta_reciente = fechas_creacion_y_titulos[-1]\n",
    "    print(\"Pregunta más vieja : \", pregunta_vieja)\n",
    "    print(\"Pregunta más reciente : \", pregunta_reciente)"
   ]
  },
  {
   "cell_type": "code",
   "execution_count": 9,
   "id": "4b8a26c8",
   "metadata": {},
   "outputs": [],
   "source": [
    "def pregunta_4(json_response: json) -> None:\n",
    "    \"\"\"\n",
    "    Está función imprime la respuesta a la pregunta 4, la cual nos dice :\n",
    "    Obtener la respuesta del owner que tenga una mayor reputación.\n",
    "    \"\"\"\n",
    "    reputaciones_y_titulos = [(dct[\"owner\"][\"reputation\"], dct[\"title\"]) for dct in json_response[\"items\"] \n",
    "                                if \"reputation\" in dct[\"owner\"]]\n",
    "    reputaciones_y_titulos.sort(key=lambda x: x[0])\n",
    "    reputacion, titulo = reputaciones_y_titulos[-1]\n",
    "    print(\"Pregunta del owner con mayor reputación : \", titulo)\n",
    "    print(\"Reputación : \", reputacion)"
   ]
  },
  {
   "cell_type": "code",
   "execution_count": 10,
   "id": "5bd428c2",
   "metadata": {},
   "outputs": [],
   "source": [
    "def funcion_principal(json_response: json, preguntas: dict) -> None:\n",
    "    \"\"\"\n",
    "    Está función nos va a permitir imprimir de forma ordenada en consola,\n",
    "    las funciones que arrojan la respuesta a las preguntas del test técnico,\n",
    "    en la parte de programación.\n",
    "    \"\"\"\n",
    "    for indice, key in enumerate(preguntas,start=1):\n",
    "        print('~'*80)\n",
    "        print(f\"Pregunta {indice} : {key}\")\n",
    "        print(\"Respuesta : \")\n",
    "        print()\n",
    "        funcion_a_ejecutar = preguntas[key]\n",
    "        funcion_a_ejecutar(json_response)"
   ]
  },
  {
   "cell_type": "code",
   "execution_count": 17,
   "id": "1c7beff9",
   "metadata": {},
   "outputs": [],
   "source": [
    "\n",
    "headers = {\"user-agent\": \"Mozilla/5.0 (X11; Linux x86_64) AppleWebKit/537.36 (KHTML, like Gecko) Ubuntu Chromium/\\\n",
    "                            88.0.4324.96 Chrome/88.0.4324.96 Safari/537.36\"}\n"
   ]
  },
  {
   "cell_type": "code",
   "execution_count": 18,
   "id": "efcd3e75",
   "metadata": {},
   "outputs": [],
   "source": [
    "api_link = \"https://api.stackexchange.com/2.2/search?order=desc&sort=activity&intitle=perl&site=stackoverflow\""
   ]
  },
  {
   "cell_type": "code",
   "execution_count": 19,
   "id": "01c0950a",
   "metadata": {},
   "outputs": [
    {
     "name": "stdout",
     "output_type": "stream",
     "text": [
      "~~~~~~~~~~~~~~~~~~~~~~~~~~~~~~~~~~~~~~~~~~~~~~~~~~~~~~~~~~~~~~~~~~~~~~~~~~~~~~~~\n",
      "Pregunta 1 : Obtener el número de respuestas contestadas y no contestadas\n",
      "Respuesta : \n",
      "\n",
      "Preguntas contestadas :  23\n",
      "Número total de respuestas :  52\n",
      "Preguntas sin respuestas :  7\n",
      "~~~~~~~~~~~~~~~~~~~~~~~~~~~~~~~~~~~~~~~~~~~~~~~~~~~~~~~~~~~~~~~~~~~~~~~~~~~~~~~~\n",
      "Pregunta 2 : Obtener la respuesta con menor número de vistas\n",
      "Respuesta : \n",
      "\n",
      "Pregunta con menor número de vistas :  Perl upload dies when the file is compressed\n",
      "Número de vistas :  29\n",
      "~~~~~~~~~~~~~~~~~~~~~~~~~~~~~~~~~~~~~~~~~~~~~~~~~~~~~~~~~~~~~~~~~~~~~~~~~~~~~~~~\n",
      "Pregunta 3 : Obtener la respuesta más vieja y más actual\n",
      "Respuesta : \n",
      "\n",
      "Pregunta más vieja :  How can I create XML from Perl?\n",
      "Pregunta más reciente :  Perl upload dies when the file is compressed\n",
      "~~~~~~~~~~~~~~~~~~~~~~~~~~~~~~~~~~~~~~~~~~~~~~~~~~~~~~~~~~~~~~~~~~~~~~~~~~~~~~~~\n",
      "Pregunta 4 : Obtener la respuesta del owner que tenga una mayor reputación\n",
      "Respuesta : \n",
      "\n",
      "Pregunta del owner con mayor reputación :  How can I create XML from Perl?\n",
      "Reputación :  34898\n"
     ]
    }
   ],
   "source": [
    "response = requests.get(url=api_link,headers=headers, timeout=15)\n",
    "if response.status_code == 200:\n",
    "    json_response = response.json()\n",
    "    preguntas = {\n",
    "                    \"Obtener el número de respuestas contestadas y no contestadas\": pregunta_1,\n",
    "                    \"Obtener la respuesta con menor número de vistas\": pregunta_2,\n",
    "                    \"Obtener la respuesta más vieja y más actual\": pregunta_3,\n",
    "                    \"Obtener la respuesta del owner que tenga una mayor reputación\": pregunta_4\n",
    "                }\n",
    "    funcion_principal(json_response, preguntas)\n"
   ]
  },
  {
   "cell_type": "code",
   "execution_count": null,
   "id": "65496ade",
   "metadata": {},
   "outputs": [],
   "source": []
  }
 ],
 "metadata": {
  "kernelspec": {
   "display_name": "Python 3 (ipykernel)",
   "language": "python",
   "name": "python3"
  },
  "language_info": {
   "codemirror_mode": {
    "name": "ipython",
    "version": 3
   },
   "file_extension": ".py",
   "mimetype": "text/x-python",
   "name": "python",
   "nbconvert_exporter": "python",
   "pygments_lexer": "ipython3",
   "version": "3.9.7"
  }
 },
 "nbformat": 4,
 "nbformat_minor": 5
}
